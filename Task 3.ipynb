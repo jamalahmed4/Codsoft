{
 "cells": [
  {
   "cell_type": "code",
   "execution_count": 1,
   "id": "0141fce4",
   "metadata": {},
   "outputs": [
    {
     "name": "stdout",
     "output_type": "stream",
     "text": [
      "Updated Books Dataset:\n",
      "   book_id                                  title               author  \\\n",
      "0        1                             The Hobbit       J.R.R. Tolkien   \n",
      "1        2                  To Kill a Mockingbird           Harper Lee   \n",
      "2        3                                   1984        George Orwell   \n",
      "3        4                    Pride and Prejudice          Jane Austen   \n",
      "4        5                       The Great Gatsby  F. Scott Fitzgerald   \n",
      "5        6                 The Catcher in the Rye        J.D. Salinger   \n",
      "6        7  Harry Potter and the Sorcerer's Stone         J.K. Rowling   \n",
      "\n",
      "       genre  \n",
      "0    Fantasy  \n",
      "1    Fiction  \n",
      "2  Dystopian  \n",
      "3    Romance  \n",
      "4    Classic  \n",
      "5    Fiction  \n",
      "6    Fantasy  \n",
      "\n",
      "Recommended books for 'The Hobbit':\n",
      "6    Harry Potter and the Sorcerer's Stone\n",
      "1                    To Kill a Mockingbird\n",
      "2                                     1984\n",
      "3                      Pride and Prejudice\n",
      "4                         The Great Gatsby\n",
      "Name: title, dtype: object\n"
     ]
    }
   ],
   "source": [
    "import pandas as pd\n",
    "from sklearn.feature_extraction.text import TfidfVectorizer\n",
    "from sklearn.metrics.pairwise import linear_kernel\n",
    "\n",
    "# Create a simple dataset\n",
    "data = {\n",
    "    'book_id': [1, 2, 3, 4, 5, 6, 7],\n",
    "    'title': ['The Hobbit', 'To Kill a Mockingbird', '1984', 'Pride and Prejudice', 'The Great Gatsby', 'The Catcher in the Rye', 'Harry Potter and the Sorcerer\\'s Stone'],\n",
    "    'author': ['J.R.R. Tolkien', 'Harper Lee', 'George Orwell', 'Jane Austen', 'F. Scott Fitzgerald', 'J.D. Salinger', 'J.K. Rowling'],\n",
    "    'genre': ['Fantasy', 'Fiction', 'Dystopian', 'Romance', 'Classic', 'Fiction', 'Fantasy']\n",
    "}\n",
    "\n",
    "books_df = pd.DataFrame(data)\n",
    "\n",
    "# Display the updated dataset\n",
    "print(\"Updated Books Dataset:\")\n",
    "print(books_df)\n",
    "\n",
    "# Save the dataset to a CSV file\n",
    "books_df.to_csv('books_dataset.csv', index=False)\n",
    "\n",
    "# Preprocess the data and create a content-based feature matrix\n",
    "books_df['content'] = books_df['title'] + ' ' + books_df['author'] + ' ' + books_df['genre']\n",
    "tfidf_vectorizer = TfidfVectorizer(stop_words='english')\n",
    "tfidf_matrix = tfidf_vectorizer.fit_transform(books_df['content'])\n",
    "\n",
    "# Calculate the cosine similarity between items (books)\n",
    "cosine_similarities = linear_kernel(tfidf_matrix, tfidf_matrix)\n",
    "\n",
    "# Function to get book recommendations based on user preferences\n",
    "def get_recommendations(book_title, cosine_similarities, data):\n",
    "    book_idx = data[data['title'] == book_title].index[0]\n",
    "    sim_scores = list(enumerate(cosine_similarities[book_idx]))\n",
    "    sim_scores = sorted(sim_scores, key=lambda x: x[1], reverse=True)\n",
    "    sim_scores = sim_scores[1:6]  # Exclude the book itself, take top 5\n",
    "    book_indices = [i[0] for i in sim_scores]\n",
    "    return data['title'].iloc[book_indices]\n",
    "\n",
    "# Example: Get book recommendations for a specific book\n",
    "book_to_recommend = 'The Hobbit'\n",
    "recommendations = get_recommendations(book_to_recommend, cosine_similarities, books_df)\n",
    "\n",
    "# Display the recommendations\n",
    "print(f\"\\nRecommended books for '{book_to_recommend}':\\n{recommendations}\")\n"
   ]
  },
  {
   "cell_type": "code",
   "execution_count": null,
   "id": "ce6b3460",
   "metadata": {},
   "outputs": [],
   "source": []
  }
 ],
 "metadata": {
  "kernelspec": {
   "display_name": "Python 3 (ipykernel)",
   "language": "python",
   "name": "python3"
  },
  "language_info": {
   "codemirror_mode": {
    "name": "ipython",
    "version": 3
   },
   "file_extension": ".py",
   "mimetype": "text/x-python",
   "name": "python",
   "nbconvert_exporter": "python",
   "pygments_lexer": "ipython3",
   "version": "3.9.13"
  }
 },
 "nbformat": 4,
 "nbformat_minor": 5
}
