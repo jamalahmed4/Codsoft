{
 "cells": [
  {
   "cell_type": "code",
   "execution_count": 2,
   "id": "280bb772",
   "metadata": {},
   "outputs": [],
   "source": [
    "import re\n",
    "\n",
    "rules = {\n",
    "    r'hello|hi|hey': 'Hello there! How can I assist you?',\n",
    "    r'how are you': 'I am just a chatbot, but I am functioning perfectly. How can I help you today?',\n",
    "    r'what is your name': \"I don't have a name, but you can call me Chatbot.\",\n",
    "    r'bye|goodbye': 'Goodbye! Feel free to return if you have more questions.',\n",
    "    r'help': 'I can provide information and answer questions. Just ask me anything!',\n",
    "    r'what time is it': 'I do not have access to real-time information.',\n",
    "    r'weather': 'I cannot provide current weather information. You can check a weather website or app for that.',\n",
    "    r'age|old are you': \"I'm just a computer program, so I don't have an age.\",\n",
    "    r'who created you': 'I was created by a developer using Python and natural language processing libraries.',\n",
    "    r'what can you do': 'I can answer questions, provide information, and engage in conversation.',\n",
    "    r'tell me a joke': 'Why did the Python programmer get rejected by the Java developer? Because he was not their type!',\n",
    "    r'favorite color': 'I do not have a favorite color. I am just a text-based program.',\n",
    "    r'how to learn Python': 'You can learn Python by taking online courses, reading books, and practicing by writing code.',\n",
    "    r'thank you': 'You are welcome!',\n",
    "    r'who won the last World Series': 'I do not have access to current sports scores. You can check a sports news website for that information.',\n",
    "}\n",
    "\n",
    "def chatbot_response(user_input):\n",
    "\n",
    "    for pattern, response in rules.items():\n",
    "        if re.search(pattern, user_input, re.IGNORECASE):\n",
    "            return response\n",
    "\n",
    "    return \"I'm sorry, I didn't understand that. Please ask another question or type 'help' for assistance.\"\n",
    "\n",
    "\n"
   ]
  },
  {
   "cell_type": "code",
   "execution_count": 3,
   "id": "49f74439",
   "metadata": {},
   "outputs": [
    {
     "name": "stdout",
     "output_type": "stream",
     "text": [
      "Chatbot: Hello! How can I assist you today?\n",
      "You: hi\n",
      "Chatbot: Hello there! How can I assist you?\n",
      "You: who are you\n",
      "Chatbot: I'm sorry, I didn't understand that. Please ask another question or type 'help' for assistance.\n",
      "You: how are you\n",
      "Chatbot: I am just a chatbot, but I am functioning perfectly. How can I help you today?\n",
      "You: what can you do\n",
      "Chatbot: I can answer questions, provide information, and engage in conversation.\n",
      "You: Tell me a joke\n",
      "Chatbot: Why did the Python programmer get rejected by the Java developer? Because he was not their type!\n",
      "You: thank you\n",
      "Chatbot: You are welcome!\n",
      "You: exit\n",
      "Chatbot: Goodbye!\n"
     ]
    }
   ],
   "source": [
    "print(\"Chatbot: Hello! How can I assist you today?\")\n",
    "while True:\n",
    "    user_input = input(\"You: \")\n",
    "    if user_input.lower() == 'exit':\n",
    "        print(\"Chatbot: Goodbye!\")\n",
    "        break\n",
    "    response = chatbot_response(user_input)\n",
    "    print(\"Chatbot:\", response)"
   ]
  },
  {
   "cell_type": "code",
   "execution_count": null,
   "id": "5ff47e33",
   "metadata": {},
   "outputs": [],
   "source": []
  }
 ],
 "metadata": {
  "kernelspec": {
   "display_name": "Python 3 (ipykernel)",
   "language": "python",
   "name": "python3"
  },
  "language_info": {
   "codemirror_mode": {
    "name": "ipython",
    "version": 3
   },
   "file_extension": ".py",
   "mimetype": "text/x-python",
   "name": "python",
   "nbconvert_exporter": "python",
   "pygments_lexer": "ipython3",
   "version": "3.9.13"
  }
 },
 "nbformat": 4,
 "nbformat_minor": 5
}
